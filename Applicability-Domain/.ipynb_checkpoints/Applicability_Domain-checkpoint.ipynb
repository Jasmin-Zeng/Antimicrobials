{
 "cells": [
  {
   "cell_type": "markdown",
   "metadata": {},
   "source": [
    "# Applicability Domain Workflow"
   ]
  },
  {
   "cell_type": "markdown",
   "metadata": {},
   "source": [
    "### Introduction\n",
    "\n",
    "Workflow for estimation of Applicability Domain (AD) based on Euclidean distances. \n",
    "\n",
    "The AD of a QSAR model must be defined to flag compounds in the test set for which predictions may be unreliable. In this workflow, similarity measurements are used to define the AD of the model based on the Euclidean distances among all the compounds of the training set. Then, we estimate if compounds of the test are inside the AD of the training set. The distance of a test compound to its nearest neighbor in the training set is compared to the calculated AD Threshold (ADT) of the training set. If the similarity is beyond this threshold, the prediction is considered unreliable.\n",
    "\n",
    "ADT is calculated as follows: \n",
    "\n",
    "ADT = D + Zσ \n",
    "\n",
    "where where Z is a similarity threshold parameter defined by the user (default is 0.5), and D and σ are the average and standard deviation, respectively, of all Euclidian distances in the multidimensional descriptor space between each compound and its nearest neighbors for all compounds in the training set.\n",
    "\n",
    "This method has been defined by A. Golbraikh, M. Shen, Z. Xiao, Y.-D. Xiao, K.-H. Lee, A. Tropsha. J. Comput. Aided. Mol. Des. 2003, 17 (2–4), 241–253."
   ]
  },
  {
   "cell_type": "code",
   "execution_count": 1,
   "metadata": {},
   "outputs": [],
   "source": [
    "import pandas as pd\n",
    "import numpy as np\n",
    "from rdkit.Chem import PandasTools\n",
    "from rdkit.Chem.AllChem import GetMorganFingerprintAsBitVect\n",
    "from sklearn.model_selection import train_test_split\n",
    "from scipy.spatial import distance_matrix"
   ]
  },
  {
   "cell_type": "markdown",
   "metadata": {},
   "source": [
    "### ADT function"
   ]
  },
  {
   "cell_type": "code",
   "execution_count": 2,
   "metadata": {},
   "outputs": [],
   "source": [
    "def calc_training_dist_matrix(training_descriptors):\n",
    "    \"\"\"Calculate the distance of every compound in the training set\n",
    "    from every other compound in the training set.\"\"\"\n",
    "    return np.sort(distance_matrix(training_descriptors,training_descriptors),axis=1)[:,1:]\n",
    "\n",
    "def calc_d_cutoff(distance_matrix, user_cutoff=0.5):\n",
    "    \"\"\"Calculate the cutoff value defining the applicability domain\n",
    "    for the entire training set.\"\"\"\n",
    "    average_dist = np.mean(distance_matrix, axis=None)\n",
    "    std_dev = np.std(distance_matrix, axis=None)\n",
    "    return (average_dist + user_cutoff * std_dev)\n",
    "\n",
    "def calc_test_distances(testing_descriptors,training_descriptors):\n",
    "    \"\"\"Calculate distance of each compound in the test set\n",
    "    from every compound in the training set\"\"\"\n",
    "    return distance_matrix(testing_descriptors,training_descriptors)\n",
    "\n",
    "def test_AD(test_value,threshold):\n",
    "    \"\"\"Return boolean value for compound; 1 if compound in AD, 0 if not.\"\"\"\n",
    "    if test_value < threshold:\n",
    "        return 1\n",
    "    return 0\n",
    "\n",
    "def percent_reliable(test_df):\n",
    "    \"\"\"Return the portion of compounds in the test set that have been calculated to be reliable.\"\"\"\n",
    "    count_reliable = len(test_df[test_df.Applicability_Domain == \"Reliable\"])\n",
    "    return count_reliable/len(test_df)"
   ]
  },
  {
   "cell_type": "markdown",
   "metadata": {},
   "source": [
    "### Import curated datasets"
   ]
  },
  {
   "cell_type": "code",
   "execution_count": 3,
   "metadata": {},
   "outputs": [
    {
     "data": {
      "text/html": [
       "<div>\n",
       "<style scoped>\n",
       "    .dataframe tbody tr th:only-of-type {\n",
       "        vertical-align: middle;\n",
       "    }\n",
       "\n",
       "    .dataframe tbody tr th {\n",
       "        vertical-align: top;\n",
       "    }\n",
       "\n",
       "    .dataframe thead th {\n",
       "        text-align: right;\n",
       "    }\n",
       "</style>\n",
       "<table border=\"1\" class=\"dataframe\">\n",
       "  <thead>\n",
       "    <tr style=\"text-align: right;\">\n",
       "      <th></th>\n",
       "      <th>MOL</th>\n",
       "      <th>ID</th>\n",
       "      <th>Set</th>\n",
       "      <th>Activity</th>\n",
       "      <th>Outcome</th>\n",
       "      <th>ROMol</th>\n",
       "    </tr>\n",
       "  </thead>\n",
       "  <tbody>\n",
       "    <tr>\n",
       "      <th>0</th>\n",
       "      <td>ms_1</td>\n",
       "      <td></td>\n",
       "      <td>ms</td>\n",
       "      <td>-0.12</td>\n",
       "      <td>Inactive</td>\n",
       "      <td style=\"text-align: center;\"><img data-content=\"rdkit/molecule\" src=\"data:image/png;base64,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\" alt=\"Mol\"/></td>\n",
       "    </tr>\n",
       "  </tbody>\n",
       "</table>\n",
       "</div>"
      ],
      "text/plain": [
       "    MOL ID Set Activity   Outcome  \\\n",
       "0  ms_1     ms    -0.12  Inactive   \n",
       "\n",
       "                                               ROMol  \n",
       "0  <img data-content=\"rdkit/molecule\" src=\"data:i...  "
      ]
     },
     "execution_count": 3,
     "metadata": {},
     "output_type": "execute_result"
    }
   ],
   "source": [
    "train = PandasTools.LoadSDF('training_set.sdf')\n",
    "train.head(1)"
   ]
  },
  {
   "cell_type": "code",
   "execution_count": 4,
   "metadata": {},
   "outputs": [
    {
     "data": {
      "text/html": [
       "<div>\n",
       "<style scoped>\n",
       "    .dataframe tbody tr th:only-of-type {\n",
       "        vertical-align: middle;\n",
       "    }\n",
       "\n",
       "    .dataframe tbody tr th {\n",
       "        vertical-align: top;\n",
       "    }\n",
       "\n",
       "    .dataframe thead th {\n",
       "        text-align: right;\n",
       "    }\n",
       "</style>\n",
       "<table border=\"1\" class=\"dataframe\">\n",
       "  <thead>\n",
       "    <tr style=\"text-align: right;\">\n",
       "      <th></th>\n",
       "      <th>MOL</th>\n",
       "      <th>ID</th>\n",
       "      <th>Set</th>\n",
       "      <th>Activity</th>\n",
       "      <th>Outcome</th>\n",
       "      <th>ROMol</th>\n",
       "    </tr>\n",
       "  </thead>\n",
       "  <tbody>\n",
       "    <tr>\n",
       "      <th>0</th>\n",
       "      <td>es1_1</td>\n",
       "      <td></td>\n",
       "      <td>es1</td>\n",
       "      <td>-0.16</td>\n",
       "      <td>Inactive</td>\n",
       "      <td>&lt;img data-content=\"rdkit/molecule\" src=\"data:image/png;base64,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\" alt=\"Mol\"/&gt;</td>\n",
       "    </tr>\n",
       "  </tbody>\n",
       "</table>\n",
       "</div>"
      ],
      "text/plain": [
       "     MOL ID  Set Activity   Outcome  \\\n",
       "0  es1_1     es1    -0.16  Inactive   \n",
       "\n",
       "                                               ROMol  \n",
       "0  <img data-content=\"rdkit/molecule\" src=\"data:i...  "
      ]
     },
     "execution_count": 4,
     "metadata": {},
     "output_type": "execute_result"
    }
   ],
   "source": [
    "test = PandasTools.LoadSDF('test_set.sdf')\n",
    "test.head(1)"
   ]
  },
  {
   "cell_type": "markdown",
   "metadata": {},
   "source": [
    "### Calculate descriptors"
   ]
  },
  {
   "cell_type": "code",
   "execution_count": 5,
   "metadata": {},
   "outputs": [
    {
     "data": {
      "text/plain": [
       "(644, 2048)"
      ]
     },
     "execution_count": 5,
     "metadata": {},
     "output_type": "execute_result"
    }
   ],
   "source": [
    "# Training set\n",
    "def calcfp(mol,funcFPInfo=dict(radius=3, nBits=2048, useFeatures=False, useChirality = False)):\n",
    "    fp = GetMorganFingerprintAsBitVect(mol, **funcFPInfo)\n",
    "    fp = pd.Series(np.asarray(fp))\n",
    "    fp = fp.add_prefix('bit_')\n",
    "    return fp\n",
    "\n",
    "morgan_train = train.ROMol.apply(calcfp)\n",
    "morgan_train.shape"
   ]
  },
  {
   "cell_type": "code",
   "execution_count": 6,
   "metadata": {},
   "outputs": [
    {
     "data": {
      "text/plain": [
       "(449, 2048)"
      ]
     },
     "execution_count": 6,
     "metadata": {},
     "output_type": "execute_result"
    }
   ],
   "source": [
    "# Test set\n",
    "morgan_test = test.ROMol.apply(calcfp)\n",
    "morgan_test.shape"
   ]
  },
  {
   "cell_type": "markdown",
   "metadata": {},
   "source": [
    "### Prepare data for modeling\n"
   ]
  },
  {
   "cell_type": "code",
   "execution_count": 7,
   "metadata": {},
   "outputs": [],
   "source": [
    "y_train = train['Activity']\n",
    "X_train = morgan_train\n",
    "\n",
    "y_test = test['Activity']\n",
    "X_test = morgan_test"
   ]
  },
  {
   "cell_type": "markdown",
   "metadata": {},
   "source": [
    "### Estimate the ADT of the model"
   ]
  },
  {
   "cell_type": "code",
   "execution_count": 8,
   "metadata": {},
   "outputs": [],
   "source": [
    "distances = calc_training_dist_matrix(X_train)"
   ]
  },
  {
   "cell_type": "code",
   "execution_count": 13,
   "metadata": {
    "scrolled": true
   },
   "outputs": [
    {
     "name": "stdout",
     "output_type": "stream",
     "text": [
      "6.2278283338925755\n"
     ]
    }
   ],
   "source": [
    "D_cutoff = calc_d_cutoff(distances)\n",
    "print(D_cutoff)"
   ]
  },
  {
   "cell_type": "markdown",
   "metadata": {},
   "source": [
    "### Calculate if moleles in the test set are in the AD of the model"
   ]
  },
  {
   "cell_type": "code",
   "execution_count": 14,
   "metadata": {},
   "outputs": [],
   "source": [
    "test_set_distances = calc_test_distances(X_test,X_train)"
   ]
  },
  {
   "cell_type": "code",
   "execution_count": 15,
   "metadata": {},
   "outputs": [],
   "source": [
    "test_values = np.apply_along_axis(calc_d_cutoff,1,test_set_distances)"
   ]
  },
  {
   "cell_type": "code",
   "execution_count": 16,
   "metadata": {},
   "outputs": [
    {
     "data": {
      "text/plain": [
       "(449,)"
      ]
     },
     "execution_count": 16,
     "metadata": {},
     "output_type": "execute_result"
    }
   ],
   "source": [
    "test_values.shape"
   ]
  },
  {
   "cell_type": "code",
   "execution_count": 17,
   "metadata": {},
   "outputs": [],
   "source": [
    "v_test_AD = np.vectorize(test_AD)\n",
    "test_AD_results = v_test_AD(test_values,D_cutoff)"
   ]
  },
  {
   "cell_type": "code",
   "execution_count": 18,
   "metadata": {},
   "outputs": [],
   "source": [
    "test['Applicability_Domain'] = test_AD_results\n",
    "test['Applicability_Domain'] = test.Applicability_Domain.map(lambda x: \"Reliable\" if x else \"Unreliable\")"
   ]
  },
  {
   "cell_type": "code",
   "execution_count": 19,
   "metadata": {},
   "outputs": [
    {
     "data": {
      "text/html": [
       "<div>\n",
       "<style scoped>\n",
       "    .dataframe tbody tr th:only-of-type {\n",
       "        vertical-align: middle;\n",
       "    }\n",
       "\n",
       "    .dataframe tbody tr th {\n",
       "        vertical-align: top;\n",
       "    }\n",
       "\n",
       "    .dataframe thead th {\n",
       "        text-align: right;\n",
       "    }\n",
       "</style>\n",
       "<table border=\"1\" class=\"dataframe\">\n",
       "  <thead>\n",
       "    <tr style=\"text-align: right;\">\n",
       "      <th></th>\n",
       "      <th>MOL</th>\n",
       "      <th>ID</th>\n",
       "      <th>Set</th>\n",
       "      <th>Activity</th>\n",
       "      <th>Outcome</th>\n",
       "      <th>ROMol</th>\n",
       "      <th>Applicability_Domain</th>\n",
       "    </tr>\n",
       "  </thead>\n",
       "  <tbody>\n",
       "    <tr>\n",
       "      <th>0</th>\n",
       "      <td>es1_1</td>\n",
       "      <td></td>\n",
       "      <td>es1</td>\n",
       "      <td>-0.16</td>\n",
       "      <td>Inactive</td>\n",
       "      <td>&lt;img data-content=\"rdkit/molecule\" src=\"data:image/png;base64,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\" alt=\"Mol\"/&gt;</td>\n",
       "      <td>Unreliable</td>\n",
       "    </tr>\n",
       "  </tbody>\n",
       "</table>\n",
       "</div>"
      ],
      "text/plain": [
       "     MOL ID  Set Activity   Outcome  \\\n",
       "0  es1_1     es1    -0.16  Inactive   \n",
       "\n",
       "                                               ROMol Applicability_Domain  \n",
       "0  <img data-content=\"rdkit/molecule\" src=\"data:i...           Unreliable  "
      ]
     },
     "execution_count": 19,
     "metadata": {},
     "output_type": "execute_result"
    }
   ],
   "source": [
    "test.head(1)"
   ]
  },
  {
   "cell_type": "code",
   "execution_count": 16,
   "metadata": {},
   "outputs": [
    {
     "name": "stdout",
     "output_type": "stream",
     "text": [
      "0.44766146993318484\n"
     ]
    }
   ],
   "source": [
    "coverage = percent_reliable(test)\n",
    "print(coverage)"
   ]
  },
  {
   "cell_type": "code",
   "execution_count": null,
   "metadata": {},
   "outputs": [],
   "source": []
  }
 ],
 "metadata": {
  "kernelspec": {
   "display_name": "Python 3 (ipykernel)",
   "language": "python",
   "name": "python3"
  },
  "language_info": {
   "codemirror_mode": {
    "name": "ipython",
    "version": 3
   },
   "file_extension": ".py",
   "mimetype": "text/x-python",
   "name": "python",
   "nbconvert_exporter": "python",
   "pygments_lexer": "ipython3",
   "version": "3.8.13"
  },
  "varInspector": {
   "cols": {
    "lenName": 16,
    "lenType": 16,
    "lenVar": 40
   },
   "kernels_config": {
    "python": {
     "delete_cmd_postfix": "",
     "delete_cmd_prefix": "del ",
     "library": "var_list.py",
     "varRefreshCmd": "print(var_dic_list())"
    },
    "r": {
     "delete_cmd_postfix": ") ",
     "delete_cmd_prefix": "rm(",
     "library": "var_list.r",
     "varRefreshCmd": "cat(var_dic_list()) "
    }
   },
   "types_to_exclude": [
    "module",
    "function",
    "builtin_function_or_method",
    "instance",
    "_Feature"
   ],
   "window_display": false
  }
 },
 "nbformat": 4,
 "nbformat_minor": 2
}
